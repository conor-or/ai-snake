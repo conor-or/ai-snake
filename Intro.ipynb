{
 "cells": [
  {
   "cell_type": "markdown",
   "metadata": {},
   "source": [
    "# Snake AI Introduction Code"
   ]
  },
  {
   "cell_type": "code",
   "execution_count": 8,
   "metadata": {},
   "outputs": [],
   "source": [
    "import numpy as np\n",
    "from neural_net import Model\n",
    "from train import train\n",
    "import matplotlib.pyplot as plt"
   ]
  },
  {
   "cell_type": "code",
   "execution_count": 4,
   "metadata": {},
   "outputs": [],
   "source": [
    "# This gets a copy of the neural network we're using, this is just so we can see\n",
    "# what shape/size the weights vectors are, saving us from manually coding it\n",
    "model = Model()"
   ]
  },
  {
   "cell_type": "code",
   "execution_count": 6,
   "metadata": {},
   "outputs": [
    {
     "data": {
      "text/plain": [
       "[array([[-0.02004123,  0.28701723,  0.272061  ],\n",
       "        [ 0.7054516 , -0.50572205, -0.79210997],\n",
       "        [ 0.4091742 , -0.70802116, -0.03580308],\n",
       "        [ 0.12976038,  0.4797268 , -0.5853251 ]], dtype=float32),\n",
       " array([0., 0., 0.], dtype=float32),\n",
       " array([[ 0.89239776],\n",
       "        [ 1.1035613 ],\n",
       "        [-1.0258186 ]], dtype=float32),\n",
       " array([0.], dtype=float32)]"
      ]
     },
     "execution_count": 6,
     "metadata": {},
     "output_type": "execute_result"
    }
   ],
   "source": [
    "# This is the current set of weights\n",
    "model.get_weights()"
   ]
  },
  {
   "cell_type": "code",
   "execution_count": 7,
   "metadata": {},
   "outputs": [
    {
     "name": "stdout",
     "output_type": "stream",
     "text": [
      "_________________________________________________________________\n",
      "Layer (type)                 Output Shape              Param #   \n",
      "=================================================================\n",
      "dense_3 (Dense)              (None, 3)                 15        \n",
      "_________________________________________________________________\n",
      "dense_4 (Dense)              (None, 1)                 4         \n",
      "=================================================================\n",
      "Total params: 19\n",
      "Trainable params: 19\n",
      "Non-trainable params: 0\n",
      "_________________________________________________________________\n"
     ]
    }
   ],
   "source": [
    "# We can see the structure of the network (kind of) with the following\n",
    "model.model.summary()"
   ]
  },
  {
   "cell_type": "code",
   "execution_count": 9,
   "metadata": {},
   "outputs": [],
   "source": [
    "# This just returns vectors the same size as prev_weights filled with random numbers\n",
    "def random_weights(prev_weights):\n",
    "    \n",
    "    # Take the shapes from the original weights vectors\n",
    "    shapes = [p.shape for p in prev_weights]\n",
    "    new_weights = []\n",
    "    \n",
    "    # Loop over each vector\n",
    "    for i, s in enumerate(shapes):\n",
    "        \n",
    "        # Generate a new vector the same size\n",
    "        # You can change the distribution [uniform, gaussian, etc] and the\n",
    "        # range of random numbers (currently [-1, 1])\n",
    "        new_weights.append(np.random.uniform(-1.0, 1.0, size=s))\n",
    "        \n",
    "    return new_weights"
   ]
  },
  {
   "cell_type": "code",
   "execution_count": 12,
   "metadata": {},
   "outputs": [],
   "source": [
    "# Generate 100 sets of random weights\n",
    "weights = [random_weights(model.get_weights()) for i in range(100)]"
   ]
  },
  {
   "cell_type": "code",
   "execution_count": 13,
   "metadata": {},
   "outputs": [],
   "source": [
    "# Now we call the training function with the weights we've generated\n",
    "# The training function returns the scores that each set of weights achieved\n",
    "# (press space bar to start the game once the window is open)\n",
    "generation = 0\n",
    "score = train(generation, weights)"
   ]
  }
 ],
 "metadata": {
  "kernelspec": {
   "display_name": "Python 3",
   "language": "python",
   "name": "python3"
  },
  "language_info": {
   "codemirror_mode": {
    "name": "ipython",
    "version": 3
   },
   "file_extension": ".py",
   "mimetype": "text/x-python",
   "name": "python",
   "nbconvert_exporter": "python",
   "pygments_lexer": "ipython3",
   "version": "3.6.4"
  }
 },
 "nbformat": 4,
 "nbformat_minor": 2
}
